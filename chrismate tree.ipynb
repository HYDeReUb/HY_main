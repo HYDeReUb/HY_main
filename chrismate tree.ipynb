{
  "nbformat": 4,
  "nbformat_minor": 0,
  "metadata": {
    "colab": {
      "name": "Untitled3.ipynb",
      "version": "0.3.2",
      "provenance": [],
      "include_colab_link": true
    },
    "kernelspec": {
      "name": "python3",
      "display_name": "Python 3"
    }
  },
  "cells": [
    {
      "cell_type": "markdown",
      "metadata": {
        "id": "view-in-github",
        "colab_type": "text"
      },
      "source": [
        "<a href=\"https://colab.research.google.com/github/HYDeReUb/cs4high_4080E055/blob/master/Tired.ipynb\" target=\"_parent\"><img src=\"https://colab.research.google.com/assets/colab-badge.svg\" alt=\"Open In Colab\"/></a>"
      ]
    },
    {
      "cell_type": "code",
      "metadata": {
        "id": "shKtHZfnl9ii",
        "colab_type": "code",
        "outputId": "c5efc8b0-d865-4d08-c31c-921b4facf560",
        "colab": {
          "base_uri": "https://localhost:8080/",
          "height": 446
        }
      },
      "source": [
        "print(\"            *\")\n",
        "print(\"          *****\")\n",
        "print(\"        *********\")\n",
        "print(\"      *************\")\n",
        "print(\"    *****************\")\n",
        "print(\"  *********************\")\n",
        "print(\"*************************\")\n",
        "print(\"          *****\")\n",
        "print(\"        *********\")\n",
        "print(\"      *************\")\n",
        "print(\"    *****************\")\n",
        "print(\"  *********************\")\n",
        "print(\"*************************\")\n",
        "print(\"          *****\")\n",
        "print(\"        *********\")\n",
        "print(\"      *************\")\n",
        "print(\"    *****************\")\n",
        "print(\"  *********************\")\n",
        "print(\"*************************\")\n",
        "print(\"           +++\")\n",
        "print(\"           +++\")\n",
        "print(\"           +++\")\n",
        "print(\"           +++\")"
      ],
      "execution_count": 0,
      "outputs": [
        {
          "output_type": "stream",
          "text": [
            "            *\n",
            "          *****\n",
            "        *********\n",
            "      *************\n",
            "    *****************\n",
            "  *********************\n",
            "*************************\n",
            "          *****\n",
            "        *********\n",
            "      *************\n",
            "    *****************\n",
            "  *********************\n",
            "*************************\n",
            "          *****\n",
            "        *********\n",
            "      *************\n",
            "    *****************\n",
            "  *********************\n",
            "*************************\n",
            "           +++\n",
            "           +++\n",
            "           +++\n",
            "           +++\n"
          ],
          "name": "stdout"
        }
      ]
    }
  ]
}
