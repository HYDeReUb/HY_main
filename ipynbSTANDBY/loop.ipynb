{
  "nbformat": 4,
  "nbformat_minor": 0,
  "metadata": {
    "colab": {
      "name": "loop.ipynb",
      "provenance": [],
      "collapsed_sections": [],
      "include_colab_link": true
    },
    "kernelspec": {
      "name": "python3",
      "display_name": "Python 3"
    }
  },
  "cells": [
    {
      "cell_type": "markdown",
      "metadata": {
        "id": "view-in-github",
        "colab_type": "text"
      },
      "source": [
        "<a href=\"https://colab.research.google.com/github/HYDeReUb/cs4high_4080E055/blob/master/loop.ipynb\" target=\"_parent\"><img src=\"https://colab.research.google.com/assets/colab-badge.svg\" alt=\"Open In Colab\"/></a>"
      ]
    },
    {
      "cell_type": "code",
      "metadata": {
        "id": "M8Og8XWDlRE4",
        "colab_type": "code",
        "outputId": "da9e8b66-b0ff-4335-9247-2f7ed2c4464c",
        "colab": {
          "base_uri": "https://localhost:8080/",
          "height": 85
        }
      },
      "source": [
        "list1=range(10)\n",
        "list2=range(1,10)\n",
        "list3=range(1,10,2)\n",
        "list4=range(10,1,-2)\n",
        "\n",
        "print(list(list1))\n",
        "print(list(list2))\n",
        "print(list(list3)) \n",
        "print(list(list4))  "
      ],
      "execution_count": 0,
      "outputs": [
        {
          "output_type": "stream",
          "text": [
            "[0, 1, 2, 3, 4, 5, 6, 7, 8, 9]\n",
            "[1, 2, 3, 4, 5, 6, 7, 8, 9]\n",
            "[1, 3, 5, 7, 9]\n",
            "[10, 8, 6, 4, 2]\n"
          ],
          "name": "stdout"
        }
      ]
    },
    {
      "cell_type": "code",
      "metadata": {
        "id": "sxKGG7JOl70K",
        "colab_type": "code",
        "outputId": "ebb66640-35f1-47f7-d75f-c945dfd5852b",
        "colab": {
          "base_uri": "https://localhost:8080/",
          "height": 85
        }
      },
      "source": [
        "list1=range(10)\n",
        "list2=range(1,10)\n",
        "list3=range(1,10,2)\n",
        "list4=range(10,1,-2)\n",
        "print(list(list1))  # [0, 1, 2, 3, 4, 5, 6, 7, 8, 9]\n",
        "print(list(list2))  # [1, 2, 3, 4, 5, 6, 7, 8, 9]\n",
        "print(list(list3))  # [1, 3, 5, 7, 9]\n",
        "print(list(list4))  # [10, 8, 6, 4, 2]"
      ],
      "execution_count": 0,
      "outputs": [
        {
          "output_type": "stream",
          "text": [
            "[0, 1, 2, 3, 4, 5, 6, 7, 8, 9]\n",
            "[1, 2, 3, 4, 5, 6, 7, 8, 9]\n",
            "[1, 3, 5, 7, 9]\n",
            "[10, 8, 6, 4, 2]\n"
          ],
          "name": "stdout"
        }
      ]
    },
    {
      "cell_type": "code",
      "metadata": {
        "id": "Bbm-T6mDmNk6",
        "colab_type": "code",
        "outputId": "1b10221c-4ec5-4b4e-ba43-def354fd1ffd",
        "colab": {
          "base_uri": "https://localhost:8080/",
          "height": 34
        }
      },
      "source": [
        "for n in range(3):\n",
        "    print(n,end=\",\")"
      ],
      "execution_count": 0,
      "outputs": [
        {
          "output_type": "stream",
          "text": [
            "0,1,2,"
          ],
          "name": "stdout"
        }
      ]
    },
    {
      "cell_type": "code",
      "metadata": {
        "id": "m6qNnskVmehZ",
        "colab_type": "code",
        "outputId": "5a5e3e06-a875-406a-e0ab-d70c5cc005b7",
        "colab": {
          "base_uri": "https://localhost:8080/",
          "height": 36
        }
      },
      "source": [
        "numbers = [21, 4, 35, 1, 8, 7, 3, 6, 9]\n",
        "my_numbers = []\n",
        "\n",
        "for number in numbers:\n",
        "  if (number % 2 != 0):\n",
        "    my_numbers.append(number)\n",
        "\n",
        "print(my_numbers)"
      ],
      "execution_count": 1,
      "outputs": [
        {
          "output_type": "stream",
          "text": [
            "[21, 35, 1, 7, 3, 9]\n"
          ],
          "name": "stdout"
        }
      ]
    }
  ]
}
