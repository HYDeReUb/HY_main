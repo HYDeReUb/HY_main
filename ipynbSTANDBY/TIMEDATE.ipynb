{
  "nbformat": 4,
  "nbformat_minor": 0,
  "metadata": {
    "colab": {
      "name": "Untitled6.ipynb",
      "provenance": [],
      "include_colab_link": true
    },
    "kernelspec": {
      "name": "python3",
      "display_name": "Python 3"
    }
  },
  "cells": [
    {
      "cell_type": "markdown",
      "metadata": {
        "id": "view-in-github",
        "colab_type": "text"
      },
      "source": [
        "<a href=\"https://colab.research.google.com/github/HYDeReUb/cs4high_4080E055/blob/master/TIMEDATE.ipynb\" target=\"_parent\"><img src=\"https://colab.research.google.com/assets/colab-badge.svg\" alt=\"Open In Colab\"/></a>"
      ]
    },
    {
      "cell_type": "code",
      "metadata": {
        "id": "cxnfWFfcumGN",
        "colab_type": "code",
        "colab": {}
      },
      "source": [
        "import time\n",
        "\n",
        "date=time.localtime()\n",
        "year=date[0]\n",
        "month=date[1]\n",
        "day=date[2]\n",
        "hour=date[3]\n",
        "\n",
        "day_month=[31,28,31,30,31,30,31,31,30,31,30,31]\n",
        "\n",
        "if year%400==0 or (year%4==0 and year%100!=0):\n",
        "   day_month[1]=29\n",
        "\n",
        "if month==1:\n",
        "   print(day)\n",
        "else:\n",
        " print(sum(day_month[:month-1])+day)"
      ],
      "execution_count": 0,
      "outputs": []
    }
  ]
}
