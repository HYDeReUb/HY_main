{
  "nbformat": 4,
  "nbformat_minor": 0,
  "metadata": {
    "colab": {
      "name": "Untitled7.ipynb",
      "provenance": [],
      "include_colab_link": true
    },
    "kernelspec": {
      "name": "python3",
      "display_name": "Python 3"
    }
  },
  "cells": [
    {
      "cell_type": "markdown",
      "metadata": {
        "id": "view-in-github",
        "colab_type": "text"
      },
      "source": [
        "<a href=\"https://colab.research.google.com/github/HYDeReUb/cs4high_4080E055/blob/master/BUY.ipynb\" target=\"_parent\"><img src=\"https://colab.research.google.com/assets/colab-badge.svg\" alt=\"Open In Colab\"/></a>"
      ]
    },
    {
      "cell_type": "code",
      "metadata": {
        "id": "jJwUmtpku7N4",
        "colab_type": "code",
        "colab": {}
      },
      "source": [
        "shit=int(input(\"請輸入購物金額：\"))\n",
        "\n",
        "if(shit>=10000):\n",
        "\n",
        " if(shit>=100000):\n",
        "  print(shit*0.8,end=\"元\\n\")\n",
        " elif(shit>=50000):\n",
        "  print(shit*0.85,end=\"元\\n\")\n",
        " elif(shit>=30000):\n",
        "  print(shit*0.9,end=\"元\\n\")\n",
        " else:\n",
        "  print(shit*0.95,end=\"元\\n\")\n",
        "\n",
        "else:\n",
        "  print(shit,end=\"元\\n\")"
      ],
      "execution_count": 0,
      "outputs": []
    }
  ]
}
